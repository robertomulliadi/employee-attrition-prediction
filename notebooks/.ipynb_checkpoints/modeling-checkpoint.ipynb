{
 "cells": [
  {
   "cell_type": "markdown",
   "id": "a098a640-b7df-4220-8ebb-7c74ea692431",
   "metadata": {},
   "source": [
    "# Predicting Employee Attrition\n",
    "### By Roberto Mulliadi\n",
    "##### IBM HR Dataset (Kaggle)"
   ]
  },
  {
   "cell_type": "code",
   "execution_count": null,
   "id": "55b2b541-5c3b-4f75-a5f8-d9a67fadbad5",
   "metadata": {},
   "outputs": [],
   "source": []
  }
 ],
 "metadata": {
  "kernelspec": {
   "display_name": "Python 3 (ipykernel)",
   "language": "python",
   "name": "python3"
  },
  "language_info": {
   "codemirror_mode": {
    "name": "ipython",
    "version": 3
   },
   "file_extension": ".py",
   "mimetype": "text/x-python",
   "name": "python",
   "nbconvert_exporter": "python",
   "pygments_lexer": "ipython3",
   "version": "3.12.8"
  }
 },
 "nbformat": 4,
 "nbformat_minor": 5
}
